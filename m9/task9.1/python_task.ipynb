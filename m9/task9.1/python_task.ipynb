{
 "cells": [
  {
   "cell_type": "code",
   "execution_count": 128,
   "id": "tropical-postage",
   "metadata": {},
   "outputs": [],
   "source": [
    "def FizzBuzz(number):\n",
    "    \n",
    "    \"this function checks a number for divisibility by 3, 5 or 3 and 5 at the same time\"\n",
    "    \n",
    "    if  (number >= 0) and (number <= 100):\n",
    "        if number%5 == 0 and number%3 == 0:\n",
    "                return \"FizzBuzz\"\n",
    "        elif number%3 == 0:\n",
    "                return \"Fizz\"\n",
    "        elif number%5 == 0:\n",
    "                return \"Buzz\"\n",
    "        else:\n",
    "                return f\"{number} isn't divisible by 5 or 3\"\n",
    "    elif number <= 0:\n",
    "        return f\"{number} is less than 0\"\n",
    "    else:\n",
    "        return f\"{number} is more than 100\""
   ]
  },
  {
   "cell_type": "code",
   "execution_count": 129,
   "id": "acceptable-failure",
   "metadata": {},
   "outputs": [
    {
     "name": "stdout",
     "output_type": "stream",
     "text": [
      "Buzz\n",
      "Fizz\n",
      "FizzBuzz\n",
      "-1 is less than 0\n",
      "150 is more than 100\n"
     ]
    }
   ],
   "source": [
    "print(FizzBuzz(5))\n",
    "print(FizzBuzz(87))\n",
    "print(FizzBuzz(60))\n",
    "print(FizzBuzz(-1))\n",
    "print(FizzBuzz(150))"
   ]
  },
  {
   "cell_type": "code",
   "execution_count": 127,
   "id": "legitimate-patch",
   "metadata": {},
   "outputs": [
    {
     "name": "stderr",
     "output_type": "stream",
     "text": [
      "......\n",
      "----------------------------------------------------------------------\n",
      "Ran 6 tests in 0.005s\n",
      "\n",
      "OK\n"
     ]
    }
   ],
   "source": [
    "import unittest\n",
    "\n",
    "\n",
    "class FizzBuzzTests(unittest.TestCase):\n",
    "    \n",
    "    \"\"\"\n",
    "    This is unit tests for my FizzBuzz function.\n",
    "    There are six tests.\n",
    "    \"\"\"\n",
    "\n",
    "    def test_fizz(self):\n",
    "        \n",
    "        \"This test checks if the text 'Fizz' is displayed\"\n",
    "        \n",
    "        number = 3\n",
    "        result = FizzBuzz(number)\n",
    "        self.assertEqual(result, 'Fizz')\n",
    "\n",
    "    def test_buzz(self):\n",
    "        \n",
    "        \"This test checks if the text 'Buzz' is displayed\"\n",
    "        \n",
    "        number = 10\n",
    "        result = FizzBuzz(number)\n",
    "        self.assertEqual(result, 'Buzz')\n",
    "\n",
    "    def test_fizzbuzz(self):\n",
    "        \n",
    "        \"This test checks if the text 'FizzBuzz' is displayed\"\n",
    "        \n",
    "        number = 15\n",
    "        result = FizzBuzz(number)\n",
    "        self.assertEqual(result, 'FizzBuzz')\n",
    "\n",
    "    def test_not_divisible(self):\n",
    "        \n",
    "        \"This test checks if the text 'number is not divisible' is displayed\"\n",
    "        \n",
    "        number = 22\n",
    "        result = FizzBuzz(number)\n",
    "        self.assertEqual(result, f\"{number} isn't divisible by 5 or 3\")\n",
    "\n",
    "    def test_condition_less(self):\n",
    "        \n",
    "        \"This test checks if the text 'the number is less than 0' is displayed\"\n",
    "        \n",
    "        number = -10\n",
    "        result = FizzBuzz(number)\n",
    "        self.assertEqual(result, f\"{number} is less than 0\")\n",
    "\n",
    "    def test_condition_more(self):\n",
    "        \n",
    "        \"This test checks if the text 'the numberis more than 100' is displayed\"\n",
    "        \n",
    "        number = 1001\n",
    "        result = FizzBuzz(number)\n",
    "        self.assertEqual(result, f\"{number} is more than 100\")\n",
    "\n",
    "if __name__ == '__main__':\n",
    "        unittest.main(argv=['first-arg-is-ignored'], exit=False)\n",
    "\n"
   ]
  },
  {
   "cell_type": "code",
   "execution_count": 147,
   "id": "recent-average",
   "metadata": {},
   "outputs": [],
   "source": [
    "def count_vowels(text):\n",
    "    \n",
    "    \"This function counts the number of vowels in the text\"\n",
    "    \n",
    "    if type(text) is str:\n",
    "        counter = 0\n",
    "        list_vowels = ['a','o','u','y','i','e']\n",
    "        for letter in text:\n",
    "            for vowels in list_vowels:\n",
    "                if letter == vowels:\n",
    "                    counter += 1\n",
    "        return counter\n",
    "    else:\n",
    "        return \"Sorry, no text entered\""
   ]
  },
  {
   "cell_type": "code",
   "execution_count": 144,
   "id": "painful-equity",
   "metadata": {},
   "outputs": [
    {
     "data": {
      "text/plain": [
       "0"
      ]
     },
     "execution_count": 144,
     "metadata": {},
     "output_type": "execute_result"
    }
   ],
   "source": [
    "count_vowels(\"Drtt bbshjr\")"
   ]
  },
  {
   "cell_type": "code",
   "execution_count": 145,
   "id": "minus-result",
   "metadata": {},
   "outputs": [
    {
     "data": {
      "text/plain": [
       "6"
      ]
     },
     "execution_count": 145,
     "metadata": {},
     "output_type": "execute_result"
    }
   ],
   "source": [
    "count_vowels(\"The Big Band Theory\")"
   ]
  },
  {
   "cell_type": "code",
   "execution_count": 146,
   "id": "accessible-adventure",
   "metadata": {},
   "outputs": [
    {
     "data": {
      "text/plain": [
       "'Sorry, no text entered'"
      ]
     },
     "execution_count": 146,
     "metadata": {},
     "output_type": "execute_result"
    }
   ],
   "source": [
    "count_vowels(10)"
   ]
  },
  {
   "cell_type": "code",
   "execution_count": null,
   "id": "creative-remainder",
   "metadata": {},
   "outputs": [],
   "source": []
  }
 ],
 "metadata": {
  "kernelspec": {
   "display_name": "Python 3",
   "language": "python",
   "name": "python3"
  },
  "language_info": {
   "codemirror_mode": {
    "name": "ipython",
    "version": 3
   },
   "file_extension": ".py",
   "mimetype": "text/x-python",
   "name": "python",
   "nbconvert_exporter": "python",
   "pygments_lexer": "ipython3",
   "version": "3.8.5"
  }
 },
 "nbformat": 4,
 "nbformat_minor": 5
}
